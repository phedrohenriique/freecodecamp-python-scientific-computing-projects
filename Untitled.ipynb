{
 "cells": [
  {
   "cell_type": "code",
   "execution_count": null,
   "id": "0978a7bc",
   "metadata": {},
   "outputs": [],
   "source": [
    "print('hello world')"
   ]
  },
  {
   "cell_type": "code",
   "execution_count": null,
   "id": "7c1982a2",
   "metadata": {},
   "outputs": [],
   "source": [
    "import pandas as pd\n",
    "import matplotlib.pyplot as plt\n",
    "import seaborn as sns\n",
    "\n",
    "spotify_filepath = \"data-analysis/spotify.csv\"\n",
    "museum_filepath = \"data-analysis/museum_visitors.csv\""
   ]
  },
  {
   "cell_type": "code",
   "execution_count": null,
   "id": "95dfd3c2",
   "metadata": {},
   "outputs": [],
   "source": [
    "def database_reading():\n",
    "    spotify_data = pd.read_csv(spotify_filepath, index_col='Date')\n",
    "    print(spotify_data.columns)\n",
    "\n",
    "def graphic_show():\n",
    "    spotify_data = pd.read_csv(spotify_filepath)\n",
    "    print(spotify_data.head(10))\n",
    "    plt.figure(figsize=(20,10))\n",
    "    plt.title('Daily Global Streams of Popular Songs in 2017-2018')\n",
    "    plt.xlabel('Date')\n",
    "    sns.lineplot(data=spotify_data['Shape of You'], label='Shape of You')\n",
    "    sns.lineplot(data=spotify_data['Despacito'], label='Despacito')\n",
    "    plt.show()\n",
    "\n",
    "def museum_data_exercise():\n",
    "    museum_data = pd.read_csv(museum_filepath, index_col='Date')\n",
    "    plt.figure(figsize=(10,5))\n",
    "    plt.title('Museum Visitors')\n",
    "    sns.lineplot(data=museum_data['Chinese American Museum'].head(10), label='Chinese American Museum')\n",
    "    sns.lineplot(data=museum_data['Avila Adobe'].head(10), label='Avila Adobe')\n",
    "    plt.show()"
   ]
  },
  {
   "cell_type": "code",
   "execution_count": null,
   "id": "fcf96b6a",
   "metadata": {},
   "outputs": [],
   "source": [
    "if __name__ == \"__main__\":\n",
    "    print('starting...')\n",
    "    ## database_reading()\n",
    "    ##graphic_show()\n",
    "    museum_data_exercise()"
   ]
  },
  {
   "cell_type": "code",
   "execution_count": null,
   "id": "5af49607",
   "metadata": {},
   "outputs": [],
   "source": [
    "import matplotlib.pyplot as plt\n",
    "\n",
    "plt.subplots()\n",
    "plt.show()"
   ]
  },
  {
   "cell_type": "code",
   "execution_count": null,
   "id": "28e6ff56",
   "metadata": {},
   "outputs": [],
   "source": [
    "plt.subplots(nrows=2, ncols=1)"
   ]
  },
  {
   "cell_type": "code",
   "execution_count": null,
   "id": "e13ef7ed",
   "metadata": {},
   "outputs": [],
   "source": [
    "import pandas as pd\n",
    "\n",
    "#df = pd.read_csv('data-analysis/museum_visitors.csv', index_col='Date')\n",
    "df = pd.read_csv('data-analysis/museum_visitors.csv')\n",
    "df.info()"
   ]
  },
  {
   "cell_type": "code",
   "execution_count": null,
   "id": "c2a1f753",
   "metadata": {},
   "outputs": [],
   "source": [
    "df.describe()"
   ]
  },
  {
   "cell_type": "code",
   "execution_count": null,
   "id": "8b388a5f",
   "metadata": {},
   "outputs": [],
   "source": [
    "df.head()"
   ]
  },
  {
   "cell_type": "code",
   "execution_count": null,
   "id": "bfab533f",
   "metadata": {},
   "outputs": [],
   "source": [
    "#df_avilaadobe = df.query(\"`Avila Adobe` > 26000\")\n",
    "#df_avilaadobe.describe()\n",
    "#df_avilaadobe.shape"
   ]
  },
  {
   "cell_type": "code",
   "execution_count": null,
   "id": "7d7f7eb9",
   "metadata": {},
   "outputs": [],
   "source": [
    "#sns.lineplot(data=df,x=df.head(30)['Date'], y=df['Avila Adobe'])\n",
    "fig, ax = plt.subplots(figsize=[6.4,4.8], dpi=200) ## determining the structure of the plot\n",
    "ax.plot(df['Date'], df['Avila Adobe']) ## determine the x, y axis respectively how the graphic will show\n",
    "plt.show()"
   ]
  },
  {
   "cell_type": "code",
   "execution_count": null,
   "id": "ed4f1249",
   "metadata": {},
   "outputs": [],
   "source": []
  }
 ],
 "metadata": {
  "kernelspec": {
   "display_name": "Python 3 (ipykernel)",
   "language": "python",
   "name": "python3"
  },
  "language_info": {
   "codemirror_mode": {
    "name": "ipython",
    "version": 3
   },
   "file_extension": ".py",
   "mimetype": "text/x-python",
   "name": "python",
   "nbconvert_exporter": "python",
   "pygments_lexer": "ipython3",
   "version": "3.10.6"
  }
 },
 "nbformat": 4,
 "nbformat_minor": 5
}
